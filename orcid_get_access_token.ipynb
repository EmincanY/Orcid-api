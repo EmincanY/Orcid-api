{
 "cells": [
  {
   "cell_type": "code",
   "execution_count": null,
   "metadata": {},
   "outputs": [],
   "source": [
    "import requests\n",
    "\n",
    "# Set the API endpoint and your client ID and client secret\n",
    "api_endpoint = \"https://orcid.org/oauth/token\"\n",
    "client_id = \"Your Client id\" # You can learn it via your orcid account.\n",
    "client_secret = \"Your secret id\" # You can learn it via your orcid account too.\n",
    "\n",
    "# Set the authorization header and payload\n",
    "headers = {\n",
    "    \"Accept\": \"application/json\",\n",
    "}\n",
    "data = {\n",
    "    \"client_id\": client_id,\n",
    "    \"client_secret\": client_secret,\n",
    "    \"grant_type\": \"client_credentials\",\n",
    "    \"scope\": \"/read-public\",\n",
    "}\n",
    "\n",
    "# Send the request to the API endpoint\n",
    "response = requests.post(api_endpoint, headers=headers, data=data)\n",
    "\n",
    "# Check the status code of the response\n",
    "if response.status_code == 200:\n",
    "    # If the request is successful, the access token will be in the response\n",
    "    access_token = response.json()[\"access_token\"]\n",
    "    print(\"Access token:\", access_token)\n",
    "else:\n",
    "    # If the request is not successful, print the error message\n",
    "    # print(\"Error:\", response.json()[\"error\"]) # This is problem for now.\n",
    "    print('Error Message !!!')\n"
   ]
  }
 ],
 "metadata": {
  "kernelspec": {
   "display_name": "Python 3",
   "language": "python",
   "name": "python3"
  },
  "language_info": {
   "name": "python",
   "version": "3.10.9 (tags/v3.10.9:1dd9be6, Dec  6 2022, 20:01:21) [MSC v.1934 64 bit (AMD64)]"
  },
  "orig_nbformat": 4,
  "vscode": {
   "interpreter": {
    "hash": "aa38ca2d4ac5334f8facb9127846041594939b57ea42b4afe5d7eb655aac64f1"
   }
  }
 },
 "nbformat": 4,
 "nbformat_minor": 2
}
